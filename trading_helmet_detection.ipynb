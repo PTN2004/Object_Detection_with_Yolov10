{
  "cells": [
    {
      "cell_type": "markdown",
      "metadata": {
        "id": "view-in-github",
        "colab_type": "text"
      },
      "source": [
        "<a href=\"https://colab.research.google.com/github/PTN2004/Object_Detection_with_Yolov10/blob/main/trading_helmet_detection.ipynb\" target=\"_parent\"><img src=\"https://colab.research.google.com/assets/colab-badge.svg\" alt=\"Open In Colab\"/></a>"
      ]
    },
    {
      "cell_type": "markdown",
      "metadata": {
        "id": "Dq0KhLXvO6KJ"
      },
      "source": [
        "**Clone repository of YOLOv10**"
      ]
    },
    {
      "cell_type": "code",
      "execution_count": null,
      "metadata": {
        "colab": {
          "background_save": true
        },
        "id": "ksfGy58D3Ugf",
        "outputId": "b0dcdf8e-ca46-47c9-e3e1-8ec8afb8c377"
      },
      "outputs": [
        {
          "name": "stdout",
          "output_type": "stream",
          "text": [
            "Cloning into 'yolov10'...\n",
            "remote: Enumerating objects: 20304, done.\u001b[K\n",
            "remote: Counting objects: 100% (1347/1347), done.\u001b[K\n",
            "remote: Compressing objects: 100% (127/127), done.\u001b[K\n",
            "remote: Total 20304 (delta 1301), reused 1223 (delta 1220), pack-reused 18957\u001b[K\n",
            "Receiving objects: 100% (20304/20304), 11.18 MiB | 9.70 MiB/s, done.\n",
            "Resolving deltas: 100% (14304/14304), done.\n"
          ]
        }
      ],
      "source": [
        "!git clone https://github.com/THU-MIG/yolov10.git"
      ]
    },
    {
      "cell_type": "markdown",
      "metadata": {
        "id": "sqfKBwUqOid7"
      },
      "source": [
        "**Install the required**"
      ]
    },
    {
      "cell_type": "code",
      "execution_count": null,
      "metadata": {
        "id": "IjsA7VR_3hkD"
      },
      "outputs": [],
      "source": [
        "%cd yolov10\n",
        "!pip install -q -r requirements.txt\n",
        "!pip install -e"
      ]
    },
    {
      "cell_type": "markdown",
      "metadata": {
        "id": "-qbHes0mPErV"
      },
      "source": [
        "**Download weight**"
      ]
    },
    {
      "cell_type": "code",
      "execution_count": null,
      "metadata": {
        "id": "SWyhKt0R4Mmc"
      },
      "outputs": [],
      "source": [
        "!wget https://github.com/THU-MIG/yolov10/releases/download/v1.1/yolov10s.pt"
      ]
    },
    {
      "cell_type": "markdown",
      "metadata": {
        "id": "WjGwY8I0PuXv"
      },
      "source": [
        "**Download image test and detect**"
      ]
    },
    {
      "cell_type": "code",
      "execution_count": null,
      "metadata": {
        "id": "7mAN0AhW423S"
      },
      "outputs": [],
      "source": [
        "!gdown \"https://www.tripsavvy.com/thmb/z1lmhJxYMQ6ScsISa3qHzeArsL0=/1500x0/filters:no_upscale():max_bytes(150000):strip_icc()/street-view-of-pham-ngu-lao-street--vietnam-921731936-5c353f9746e0fb000180251c.jpg\" -O \"./images/\""
      ]
    },
    {
      "cell_type": "code",
      "execution_count": null,
      "metadata": {
        "id": "yhb-ncrX4muK"
      },
      "outputs": [],
      "source": [
        "from ultralytics import YOLOv10\n",
        "\n",
        "MODEL_PATH = './yolov10s.pt'\n",
        "model = YOLOv10(MODEL_PATH)\n",
        "\n",
        "IMAGE_PATH = './images/'\n",
        "results = model.predict(IMAGE_PATH)[0]\n",
        "results.save('./images/HCMC_Street_predict.png')\n",
        "results"
      ]
    },
    {
      "cell_type": "markdown",
      "metadata": {
        "id": "LuhaDtg6Re5p"
      },
      "source": [
        "**Download dataset and extract**"
      ]
    },
    {
      "cell_type": "code",
      "execution_count": null,
      "metadata": {
        "id": "91X7UxQ2FFcq",
        "colab": {
          "base_uri": "https://localhost:8080/"
        },
        "outputId": "17524bd8-6bc4-4939-9a98-89ff14884491"
      },
      "outputs": [
        {
          "output_type": "stream",
          "name": "stdout",
          "text": [
            "Downloading...\n",
            "From (original): https://drive.google.com/uc?id=1twdtZEfcw4ghSZIiPDypJurZnNXzMO7R\n",
            "From (redirected): https://drive.google.com/uc?id=1twdtZEfcw4ghSZIiPDypJurZnNXzMO7R&confirm=t&uuid=15233da2-08ef-4266-aedf-4a5bd971388a\n",
            "To: /content/Safety_Helmet_Dataset.zip\n",
            "100% 33.7M/33.7M [00:00<00:00, 123MB/s]\n",
            "unzip:  cannot find or open /content/yolov10/Safety_Helmet_Dataset.zip, /content/yolov10/Safety_Helmet_Dataset.zip.zip or /content/yolov10/Safety_Helmet_Dataset.zip.ZIP.\n"
          ]
        }
      ],
      "source": [
        "!gdown '1twdtZEfcw4ghSZIiPDypJurZnNXzMO7R'\n",
        "!mkdir safety_helmet_dataset\n",
        "!unzip /content/yolov10/Safety_Helmet_Dataset.zip -d ./safety_helmet_dataset"
      ]
    },
    {
      "cell_type": "markdown",
      "metadata": {
        "id": "rQL1xeUYRuZf"
      },
      "source": [
        "**Tranding model \"Helmet detection\"**"
      ]
    },
    {
      "cell_type": "code",
      "execution_count": null,
      "metadata": {
        "id": "44ZqLZauJAER"
      },
      "outputs": [],
      "source": [
        "from ultralytics import YOLOv10\n",
        "\n",
        "MODEL_PATH = \"/content/yolov10/yolov10s.pt\"\n",
        "YAML_PATH = \"/content/yolov10/safety_helmet_dataset/data.yaml\"\n",
        "EPOCHS = 50\n",
        "IMG_SIZE = 640\n",
        "BATCH_SIZE = 32\n",
        "\n",
        "model = YOLOv10(MODEL_PATH)\n",
        "model.train(data=YAML_PATH, epochs=EPOCHS, imgsz=IMG_SIZE, batch=BATCH_SIZE)\n"
      ]
    },
    {
      "cell_type": "code",
      "execution_count": null,
      "metadata": {
        "id": "y6iL7jeWZ90Z"
      },
      "outputs": [],
      "source": [
        "from ultralytics import YOLOv10\n",
        "\n",
        "video = cv2.VideoCapture()\n",
        "\n",
        "TRAINED_MODEL_PATH = \"/content/yolov10/runs/detect/train/weights/best.pt\"\n",
        "model = YOLOv10(TRAINED_MODEL_PATH)\n",
        "\n",
        "model.val(data=YAML_PATH,imgsz=IMG_SIZE, split='test')"
      ]
    },
    {
      "cell_type": "code",
      "execution_count": null,
      "metadata": {
        "id": "eo1P4tS_cZHw"
      },
      "outputs": [],
      "source": [
        "from ultralytics import YOLOv10\n",
        "from google.colab.patches import cv2_imshow\n",
        "import cv2\n",
        "\n",
        "MODEL_PATH = '/content/yolov10/runs/detect/train/weights/best.pt'\n",
        "model = YOLOv10(MODEL_PATH)\n",
        "\n",
        "IMAGE_PATH = 'https://www.shutterstock.com/image-photo/handsome-indianasian-man-helmet-over-260nw-1181201782.jpg'\n",
        "Video_Path = '/content/videoplayback.mp4'\n",
        "results = model.predict(source=Video_Path)"
      ]
    },
    {
      "cell_type": "code",
      "execution_count": null,
      "metadata": {
        "id": "DdSqrn__hdDN"
      },
      "outputs": [],
      "source": [
        "!pip install -q streamlit"
      ]
    }
  ],
  "metadata": {
    "accelerator": "GPU",
    "colab": {
      "gpuType": "T4",
      "provenance": [],
      "mount_file_id": "1idihjhhEctVshW38yfOxHq4YY_K4P9rG",
      "authorship_tag": "ABX9TyNtZzk1+URBi1QHrk+ouAr3",
      "include_colab_link": true
    },
    "kernelspec": {
      "display_name": "Python 3",
      "name": "python3"
    },
    "language_info": {
      "name": "python"
    }
  },
  "nbformat": 4,
  "nbformat_minor": 0
}